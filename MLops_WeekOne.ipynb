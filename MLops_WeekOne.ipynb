{
  "cells": [
    {
      "cell_type": "code",
      "execution_count": 75,
      "metadata": {
        "id": "-fL_hMuWwXeO"
      },
      "outputs": [],
      "source": [
        "import pandas as pd\n",
        "import pyarrow.parquet as pq\n",
        "from pandas.core.tools.datetimes import to_datetime\n",
        "import seaborn as sns\n",
        "import matplotlib.pyplot as plt\n",
        "from sklearn.feature_extraction import DictVectorizer\n",
        "from sklearn.linear_model import LinearRegression\n",
        "from sklearn.metrics import mean_squared_error"
      ]
    },
    {
      "cell_type": "code",
      "execution_count": 76,
      "metadata": {
        "colab": {
          "base_uri": "https://localhost:8080/",
          "height": 641
        },
        "id": "4JUOEpwax2tp",
        "outputId": "ac8a8da7-d3b2-40e9-90c5-2bf9f3619d39"
      },
      "outputs": [
        {
          "data": {
            "text/html": [
              "<div>\n",
              "<style scoped>\n",
              "    .dataframe tbody tr th:only-of-type {\n",
              "        vertical-align: middle;\n",
              "    }\n",
              "\n",
              "    .dataframe tbody tr th {\n",
              "        vertical-align: top;\n",
              "    }\n",
              "\n",
              "    .dataframe thead th {\n",
              "        text-align: right;\n",
              "    }\n",
              "</style>\n",
              "<table border=\"1\" class=\"dataframe\">\n",
              "  <thead>\n",
              "    <tr style=\"text-align: right;\">\n",
              "      <th></th>\n",
              "      <th>dispatching_base_num</th>\n",
              "      <th>pickup_datetime</th>\n",
              "      <th>dropOff_datetime</th>\n",
              "      <th>PUlocationID</th>\n",
              "      <th>DOlocationID</th>\n",
              "      <th>SR_Flag</th>\n",
              "      <th>Affiliated_base_number</th>\n",
              "    </tr>\n",
              "  </thead>\n",
              "  <tbody>\n",
              "    <tr>\n",
              "      <th>0</th>\n",
              "      <td>B00009</td>\n",
              "      <td>2021-01-01 00:27:00</td>\n",
              "      <td>2021-01-01 00:44:00</td>\n",
              "      <td>NaN</td>\n",
              "      <td>NaN</td>\n",
              "      <td>None</td>\n",
              "      <td>B00009</td>\n",
              "    </tr>\n",
              "    <tr>\n",
              "      <th>1</th>\n",
              "      <td>B00009</td>\n",
              "      <td>2021-01-01 00:50:00</td>\n",
              "      <td>2021-01-01 01:07:00</td>\n",
              "      <td>NaN</td>\n",
              "      <td>NaN</td>\n",
              "      <td>None</td>\n",
              "      <td>B00009</td>\n",
              "    </tr>\n",
              "    <tr>\n",
              "      <th>2</th>\n",
              "      <td>B00013</td>\n",
              "      <td>2021-01-01 00:01:00</td>\n",
              "      <td>2021-01-01 01:51:00</td>\n",
              "      <td>NaN</td>\n",
              "      <td>NaN</td>\n",
              "      <td>None</td>\n",
              "      <td>B00013</td>\n",
              "    </tr>\n",
              "    <tr>\n",
              "      <th>3</th>\n",
              "      <td>B00037</td>\n",
              "      <td>2021-01-01 00:13:09</td>\n",
              "      <td>2021-01-01 00:21:26</td>\n",
              "      <td>NaN</td>\n",
              "      <td>72.0</td>\n",
              "      <td>None</td>\n",
              "      <td>B00037</td>\n",
              "    </tr>\n",
              "    <tr>\n",
              "      <th>4</th>\n",
              "      <td>B00037</td>\n",
              "      <td>2021-01-01 00:38:31</td>\n",
              "      <td>2021-01-01 00:53:44</td>\n",
              "      <td>NaN</td>\n",
              "      <td>61.0</td>\n",
              "      <td>None</td>\n",
              "      <td>B00037</td>\n",
              "    </tr>\n",
              "    <tr>\n",
              "      <th>...</th>\n",
              "      <td>...</td>\n",
              "      <td>...</td>\n",
              "      <td>...</td>\n",
              "      <td>...</td>\n",
              "      <td>...</td>\n",
              "      <td>...</td>\n",
              "      <td>...</td>\n",
              "    </tr>\n",
              "    <tr>\n",
              "      <th>1154107</th>\n",
              "      <td>B03266</td>\n",
              "      <td>2021-01-31 23:43:03</td>\n",
              "      <td>2021-01-31 23:51:48</td>\n",
              "      <td>7.0</td>\n",
              "      <td>7.0</td>\n",
              "      <td>None</td>\n",
              "      <td>B03266</td>\n",
              "    </tr>\n",
              "    <tr>\n",
              "      <th>1154108</th>\n",
              "      <td>B03284</td>\n",
              "      <td>2021-01-31 23:50:27</td>\n",
              "      <td>2021-02-01 00:48:03</td>\n",
              "      <td>44.0</td>\n",
              "      <td>91.0</td>\n",
              "      <td>None</td>\n",
              "      <td></td>\n",
              "    </tr>\n",
              "    <tr>\n",
              "      <th>1154109</th>\n",
              "      <td>B03285</td>\n",
              "      <td>2021-01-31 23:13:46</td>\n",
              "      <td>2021-01-31 23:29:58</td>\n",
              "      <td>171.0</td>\n",
              "      <td>171.0</td>\n",
              "      <td>None</td>\n",
              "      <td>B03285</td>\n",
              "    </tr>\n",
              "    <tr>\n",
              "      <th>1154110</th>\n",
              "      <td>B03285</td>\n",
              "      <td>2021-01-31 23:58:03</td>\n",
              "      <td>2021-02-01 00:17:29</td>\n",
              "      <td>15.0</td>\n",
              "      <td>15.0</td>\n",
              "      <td>None</td>\n",
              "      <td>B03285</td>\n",
              "    </tr>\n",
              "    <tr>\n",
              "      <th>1154111</th>\n",
              "      <td>B03321</td>\n",
              "      <td>2021-01-31 23:39:00</td>\n",
              "      <td>2021-02-01 00:15:00</td>\n",
              "      <td>NaN</td>\n",
              "      <td>NaN</td>\n",
              "      <td>None</td>\n",
              "      <td>B03321</td>\n",
              "    </tr>\n",
              "  </tbody>\n",
              "</table>\n",
              "<p>1154112 rows × 7 columns</p>\n",
              "</div>"
            ],
            "text/plain": [
              "        dispatching_base_num     pickup_datetime    dropOff_datetime  \\\n",
              "0                     B00009 2021-01-01 00:27:00 2021-01-01 00:44:00   \n",
              "1                     B00009 2021-01-01 00:50:00 2021-01-01 01:07:00   \n",
              "2                     B00013 2021-01-01 00:01:00 2021-01-01 01:51:00   \n",
              "3                     B00037 2021-01-01 00:13:09 2021-01-01 00:21:26   \n",
              "4                     B00037 2021-01-01 00:38:31 2021-01-01 00:53:44   \n",
              "...                      ...                 ...                 ...   \n",
              "1154107               B03266 2021-01-31 23:43:03 2021-01-31 23:51:48   \n",
              "1154108               B03284 2021-01-31 23:50:27 2021-02-01 00:48:03   \n",
              "1154109      B03285          2021-01-31 23:13:46 2021-01-31 23:29:58   \n",
              "1154110      B03285          2021-01-31 23:58:03 2021-02-01 00:17:29   \n",
              "1154111               B03321 2021-01-31 23:39:00 2021-02-01 00:15:00   \n",
              "\n",
              "         PUlocationID  DOlocationID SR_Flag Affiliated_base_number  \n",
              "0                 NaN           NaN    None                 B00009  \n",
              "1                 NaN           NaN    None                 B00009  \n",
              "2                 NaN           NaN    None                 B00013  \n",
              "3                 NaN          72.0    None                 B00037  \n",
              "4                 NaN          61.0    None                 B00037  \n",
              "...               ...           ...     ...                    ...  \n",
              "1154107           7.0           7.0    None                 B03266  \n",
              "1154108          44.0          91.0    None                         \n",
              "1154109         171.0         171.0    None        B03285           \n",
              "1154110          15.0          15.0    None        B03285           \n",
              "1154111           NaN           NaN    None                 B03321  \n",
              "\n",
              "[1154112 rows x 7 columns]"
            ]
          },
          "execution_count": 76,
          "metadata": {},
          "output_type": "execute_result"
        }
      ],
      "source": [
        "dst =  pq.read_table('fhv_tripdata_2021-01.parquet')\n",
        "df = dst.to_pandas()\n",
        "df"
      ]
    },
    {
      "cell_type": "markdown",
      "metadata": {
        "id": "OazEnHIM-REH"
      },
      "source": [
        "Q1) Downloading the data:\n",
        "\n",
        "Read the data for January.How many records are there?\n",
        "\n",
        "Answer:\n",
        "\n",
        "1154112 Entries \n",
        "\n"
      ]
    },
    {
      "cell_type": "code",
      "execution_count": 77,
      "metadata": {
        "colab": {
          "base_uri": "https://localhost:8080/"
        },
        "id": "cuu5Ik0RzAeW",
        "outputId": "167ef5e4-9dfb-4db9-8b57-8cb0bae01387"
      },
      "outputs": [
        {
          "data": {
            "text/plain": [
              "0   2021-01-01 00:44:00\n",
              "1   2021-01-01 01:07:00\n",
              "2   2021-01-01 01:51:00\n",
              "3   2021-01-01 00:21:26\n",
              "4   2021-01-01 00:53:44\n",
              "Name: dropOff_datetime, dtype: datetime64[ns]"
            ]
          },
          "execution_count": 77,
          "metadata": {},
          "output_type": "execute_result"
        }
      ],
      "source": [
        "# Setting up drop_off_time to datetime using pandas\n",
        "drop_off_time = pd.to_datetime(df.dropOff_datetime)\n",
        "drop_off_time.head()"
      ]
    },
    {
      "cell_type": "code",
      "execution_count": 78,
      "metadata": {
        "colab": {
          "base_uri": "https://localhost:8080/"
        },
        "id": "uXi85Hnp2CJX",
        "outputId": "90eed065-cbf9-42db-cad8-61ec9929d181"
      },
      "outputs": [
        {
          "data": {
            "text/plain": [
              "0   2021-01-01 00:27:00\n",
              "1   2021-01-01 00:50:00\n",
              "2   2021-01-01 00:01:00\n",
              "3   2021-01-01 00:13:09\n",
              "4   2021-01-01 00:38:31\n",
              "Name: pickup_datetime, dtype: datetime64[ns]"
            ]
          },
          "execution_count": 78,
          "metadata": {},
          "output_type": "execute_result"
        }
      ],
      "source": [
        "# Setting up pick_up_time to datetime using pandas\n",
        "pick_up_time = pd.to_datetime(df.pickup_datetime)\n",
        "pick_up_time.head()"
      ]
    },
    {
      "cell_type": "code",
      "execution_count": 79,
      "metadata": {
        "colab": {
          "base_uri": "https://localhost:8080/"
        },
        "id": "ip0YMWGN2U4j",
        "outputId": "a49b99e4-0c80-401d-f405-2c78b17c50e3"
      },
      "outputs": [
        {
          "data": {
            "text/plain": [
              "0         0 days 00:17:00\n",
              "1         0 days 00:17:00\n",
              "2         0 days 01:50:00\n",
              "3         0 days 00:08:17\n",
              "4         0 days 00:15:13\n",
              "                ...      \n",
              "1154107   0 days 00:08:45\n",
              "1154108   0 days 00:57:36\n",
              "1154109   0 days 00:16:12\n",
              "1154110   0 days 00:19:26\n",
              "1154111   0 days 00:36:00\n",
              "Length: 1154112, dtype: timedelta64[ns]"
            ]
          },
          "execution_count": 79,
          "metadata": {},
          "output_type": "execute_result"
        }
      ],
      "source": [
        "# Calculating the trip duration \n",
        "duration = drop_off_time - pick_up_time\n",
        "duration "
      ]
    },
    {
      "cell_type": "code",
      "execution_count": 80,
      "metadata": {
        "colab": {
          "base_uri": "https://localhost:8080/",
          "height": 347
        },
        "id": "Xhh-y3IN38rx",
        "outputId": "72dfded3-443c-4feb-d49a-7cbb3d2d9ea9"
      },
      "outputs": [
        {
          "data": {
            "text/html": [
              "<div>\n",
              "<style scoped>\n",
              "    .dataframe tbody tr th:only-of-type {\n",
              "        vertical-align: middle;\n",
              "    }\n",
              "\n",
              "    .dataframe tbody tr th {\n",
              "        vertical-align: top;\n",
              "    }\n",
              "\n",
              "    .dataframe thead th {\n",
              "        text-align: right;\n",
              "    }\n",
              "</style>\n",
              "<table border=\"1\" class=\"dataframe\">\n",
              "  <thead>\n",
              "    <tr style=\"text-align: right;\">\n",
              "      <th></th>\n",
              "      <th>dispatching_base_num</th>\n",
              "      <th>pickup_datetime</th>\n",
              "      <th>dropOff_datetime</th>\n",
              "      <th>PUlocationID</th>\n",
              "      <th>DOlocationID</th>\n",
              "      <th>SR_Flag</th>\n",
              "      <th>Affiliated_base_number</th>\n",
              "      <th>duration</th>\n",
              "    </tr>\n",
              "  </thead>\n",
              "  <tbody>\n",
              "    <tr>\n",
              "      <th>0</th>\n",
              "      <td>B00009</td>\n",
              "      <td>2021-01-01 00:27:00</td>\n",
              "      <td>2021-01-01 00:44:00</td>\n",
              "      <td>NaN</td>\n",
              "      <td>NaN</td>\n",
              "      <td>None</td>\n",
              "      <td>B00009</td>\n",
              "      <td>0 days 00:17:00</td>\n",
              "    </tr>\n",
              "    <tr>\n",
              "      <th>1</th>\n",
              "      <td>B00009</td>\n",
              "      <td>2021-01-01 00:50:00</td>\n",
              "      <td>2021-01-01 01:07:00</td>\n",
              "      <td>NaN</td>\n",
              "      <td>NaN</td>\n",
              "      <td>None</td>\n",
              "      <td>B00009</td>\n",
              "      <td>0 days 00:17:00</td>\n",
              "    </tr>\n",
              "    <tr>\n",
              "      <th>2</th>\n",
              "      <td>B00013</td>\n",
              "      <td>2021-01-01 00:01:00</td>\n",
              "      <td>2021-01-01 01:51:00</td>\n",
              "      <td>NaN</td>\n",
              "      <td>NaN</td>\n",
              "      <td>None</td>\n",
              "      <td>B00013</td>\n",
              "      <td>0 days 01:50:00</td>\n",
              "    </tr>\n",
              "    <tr>\n",
              "      <th>3</th>\n",
              "      <td>B00037</td>\n",
              "      <td>2021-01-01 00:13:09</td>\n",
              "      <td>2021-01-01 00:21:26</td>\n",
              "      <td>NaN</td>\n",
              "      <td>72.0</td>\n",
              "      <td>None</td>\n",
              "      <td>B00037</td>\n",
              "      <td>0 days 00:08:17</td>\n",
              "    </tr>\n",
              "    <tr>\n",
              "      <th>4</th>\n",
              "      <td>B00037</td>\n",
              "      <td>2021-01-01 00:38:31</td>\n",
              "      <td>2021-01-01 00:53:44</td>\n",
              "      <td>NaN</td>\n",
              "      <td>61.0</td>\n",
              "      <td>None</td>\n",
              "      <td>B00037</td>\n",
              "      <td>0 days 00:15:13</td>\n",
              "    </tr>\n",
              "  </tbody>\n",
              "</table>\n",
              "</div>"
            ],
            "text/plain": [
              "  dispatching_base_num     pickup_datetime    dropOff_datetime  PUlocationID  \\\n",
              "0               B00009 2021-01-01 00:27:00 2021-01-01 00:44:00           NaN   \n",
              "1               B00009 2021-01-01 00:50:00 2021-01-01 01:07:00           NaN   \n",
              "2               B00013 2021-01-01 00:01:00 2021-01-01 01:51:00           NaN   \n",
              "3               B00037 2021-01-01 00:13:09 2021-01-01 00:21:26           NaN   \n",
              "4               B00037 2021-01-01 00:38:31 2021-01-01 00:53:44           NaN   \n",
              "\n",
              "   DOlocationID SR_Flag Affiliated_base_number        duration  \n",
              "0           NaN    None                 B00009 0 days 00:17:00  \n",
              "1           NaN    None                 B00009 0 days 00:17:00  \n",
              "2           NaN    None                 B00013 0 days 01:50:00  \n",
              "3          72.0    None                 B00037 0 days 00:08:17  \n",
              "4          61.0    None                 B00037 0 days 00:15:13  "
            ]
          },
          "execution_count": 80,
          "metadata": {},
          "output_type": "execute_result"
        }
      ],
      "source": [
        "df['duration'] = duration\n",
        "df.head()"
      ]
    },
    {
      "cell_type": "code",
      "execution_count": 81,
      "metadata": {
        "colab": {
          "base_uri": "https://localhost:8080/"
        },
        "id": "1n2_wfcP4iUx",
        "outputId": "b398ac7f-41d7-481b-dff3-5c0a8ddf6a3d"
      },
      "outputs": [
        {
          "name": "stdout",
          "output_type": "stream",
          "text": [
            "17.0 minutes\n"
          ]
        }
      ],
      "source": [
        "# Convert duration to minutes \n",
        "to_minus = df.duration.iloc[0]\n",
        "print(to_minus.total_seconds()/60, 'minutes') "
      ]
    },
    {
      "cell_type": "code",
      "execution_count": 82,
      "metadata": {
        "id": "HABpDS7p5vPd"
      },
      "outputs": [],
      "source": [
        "# Coverting DURATION column to display all time in minutes \n",
        "df.duration = df.duration.apply(lambda to_minus: to_minus.total_seconds()/60)\n",
        "#CAUTION DO NOT RE-RUN. A conversation will occur  "
      ]
    },
    {
      "cell_type": "code",
      "execution_count": 83,
      "metadata": {
        "colab": {
          "base_uri": "https://localhost:8080/",
          "height": 347
        },
        "id": "WaVXNxBs6YQK",
        "outputId": "f0ee61ff-9989-470a-d4f9-24082f8ccf20"
      },
      "outputs": [
        {
          "data": {
            "text/html": [
              "<div>\n",
              "<style scoped>\n",
              "    .dataframe tbody tr th:only-of-type {\n",
              "        vertical-align: middle;\n",
              "    }\n",
              "\n",
              "    .dataframe tbody tr th {\n",
              "        vertical-align: top;\n",
              "    }\n",
              "\n",
              "    .dataframe thead th {\n",
              "        text-align: right;\n",
              "    }\n",
              "</style>\n",
              "<table border=\"1\" class=\"dataframe\">\n",
              "  <thead>\n",
              "    <tr style=\"text-align: right;\">\n",
              "      <th></th>\n",
              "      <th>dispatching_base_num</th>\n",
              "      <th>pickup_datetime</th>\n",
              "      <th>dropOff_datetime</th>\n",
              "      <th>PUlocationID</th>\n",
              "      <th>DOlocationID</th>\n",
              "      <th>SR_Flag</th>\n",
              "      <th>Affiliated_base_number</th>\n",
              "      <th>duration</th>\n",
              "    </tr>\n",
              "  </thead>\n",
              "  <tbody>\n",
              "    <tr>\n",
              "      <th>0</th>\n",
              "      <td>B00009</td>\n",
              "      <td>2021-01-01 00:27:00</td>\n",
              "      <td>2021-01-01 00:44:00</td>\n",
              "      <td>NaN</td>\n",
              "      <td>NaN</td>\n",
              "      <td>None</td>\n",
              "      <td>B00009</td>\n",
              "      <td>17.000000</td>\n",
              "    </tr>\n",
              "    <tr>\n",
              "      <th>1</th>\n",
              "      <td>B00009</td>\n",
              "      <td>2021-01-01 00:50:00</td>\n",
              "      <td>2021-01-01 01:07:00</td>\n",
              "      <td>NaN</td>\n",
              "      <td>NaN</td>\n",
              "      <td>None</td>\n",
              "      <td>B00009</td>\n",
              "      <td>17.000000</td>\n",
              "    </tr>\n",
              "    <tr>\n",
              "      <th>2</th>\n",
              "      <td>B00013</td>\n",
              "      <td>2021-01-01 00:01:00</td>\n",
              "      <td>2021-01-01 01:51:00</td>\n",
              "      <td>NaN</td>\n",
              "      <td>NaN</td>\n",
              "      <td>None</td>\n",
              "      <td>B00013</td>\n",
              "      <td>110.000000</td>\n",
              "    </tr>\n",
              "    <tr>\n",
              "      <th>3</th>\n",
              "      <td>B00037</td>\n",
              "      <td>2021-01-01 00:13:09</td>\n",
              "      <td>2021-01-01 00:21:26</td>\n",
              "      <td>NaN</td>\n",
              "      <td>72.0</td>\n",
              "      <td>None</td>\n",
              "      <td>B00037</td>\n",
              "      <td>8.283333</td>\n",
              "    </tr>\n",
              "    <tr>\n",
              "      <th>4</th>\n",
              "      <td>B00037</td>\n",
              "      <td>2021-01-01 00:38:31</td>\n",
              "      <td>2021-01-01 00:53:44</td>\n",
              "      <td>NaN</td>\n",
              "      <td>61.0</td>\n",
              "      <td>None</td>\n",
              "      <td>B00037</td>\n",
              "      <td>15.216667</td>\n",
              "    </tr>\n",
              "  </tbody>\n",
              "</table>\n",
              "</div>"
            ],
            "text/plain": [
              "  dispatching_base_num     pickup_datetime    dropOff_datetime  PUlocationID  \\\n",
              "0               B00009 2021-01-01 00:27:00 2021-01-01 00:44:00           NaN   \n",
              "1               B00009 2021-01-01 00:50:00 2021-01-01 01:07:00           NaN   \n",
              "2               B00013 2021-01-01 00:01:00 2021-01-01 01:51:00           NaN   \n",
              "3               B00037 2021-01-01 00:13:09 2021-01-01 00:21:26           NaN   \n",
              "4               B00037 2021-01-01 00:38:31 2021-01-01 00:53:44           NaN   \n",
              "\n",
              "   DOlocationID SR_Flag Affiliated_base_number    duration  \n",
              "0           NaN    None                 B00009   17.000000  \n",
              "1           NaN    None                 B00009   17.000000  \n",
              "2           NaN    None                 B00013  110.000000  \n",
              "3          72.0    None                 B00037    8.283333  \n",
              "4          61.0    None                 B00037   15.216667  "
            ]
          },
          "execution_count": 83,
          "metadata": {},
          "output_type": "execute_result"
        }
      ],
      "source": [
        "df.head()"
      ]
    },
    {
      "cell_type": "code",
      "execution_count": 84,
      "metadata": {
        "colab": {
          "base_uri": "https://localhost:8080/"
        },
        "id": "5RzVpwXK8IVZ",
        "outputId": "bc6d723d-c5e2-44d0-d3cb-e8e78819e56e"
      },
      "outputs": [
        {
          "name": "stdout",
          "output_type": "stream",
          "text": [
            "19.167224093791006\n"
          ]
        }
      ],
      "source": [
        "# The average duration a trip takes \n",
        "Average = df.duration.mean()\n",
        "print(Average)"
      ]
    },
    {
      "cell_type": "markdown",
      "metadata": {
        "id": "aH3isqH6_b7A"
      },
      "source": [
        "Q2) Computing Duration:\n",
        "\n",
        "What's the average trip duration in January?\n",
        "\n",
        "Answer:\n",
        "\n",
        "19.16 min \n",
        "\n",
        "Is the average duration in minutes"
      ]
    },
    {
      "cell_type": "code",
      "execution_count": 85,
      "metadata": {
        "colab": {
          "base_uri": "https://localhost:8080/"
        },
        "id": "Y624pf2dAXVj",
        "outputId": "f1edbf85-da42-46b7-dd32-9388d0aca5dc"
      },
      "outputs": [
        {
          "data": {
            "text/plain": [
              "count    1.154112e+06\n",
              "mean     1.916722e+01\n",
              "std      3.986922e+02\n",
              "min      1.666667e-02\n",
              "50%      1.340000e+01\n",
              "95%      4.725000e+01\n",
              "98%      6.613333e+01\n",
              "99%      9.030000e+01\n",
              "max      4.233710e+05\n",
              "Name: duration, dtype: float64"
            ]
          },
          "execution_count": 85,
          "metadata": {},
          "output_type": "execute_result"
        }
      ],
      "source": [
        "df.duration.describe(percentiles=[0.95,0.98,0.99])"
      ]
    },
    {
      "cell_type": "code",
      "execution_count": 86,
      "metadata": {
        "colab": {
          "base_uri": "https://localhost:8080/"
        },
        "id": "6add2cduCaX2",
        "outputId": "055f50db-8a24-4d99-cc1b-05bce3f3ae4b"
      },
      "outputs": [
        {
          "data": {
            "text/plain": [
              "0           True\n",
              "1           True\n",
              "2          False\n",
              "3           True\n",
              "4           True\n",
              "           ...  \n",
              "1154107     True\n",
              "1154108     True\n",
              "1154109     True\n",
              "1154110     True\n",
              "1154111     True\n",
              "Name: duration, Length: 1154112, dtype: bool"
            ]
          },
          "execution_count": 86,
          "metadata": {},
          "output_type": "execute_result"
        }
      ],
      "source": [
        "(df.duration >= 1) & (df.duration <= 60)"
      ]
    },
    {
      "cell_type": "code",
      "execution_count": 87,
      "metadata": {
        "colab": {
          "base_uri": "https://localhost:8080/"
        },
        "id": "1kzgiy5sCsB8",
        "outputId": "3d19534e-c0ef-488e-8ad2-9da62a2a2a56"
      },
      "outputs": [
        {
          "data": {
            "text/plain": [
              "0.9616276409915155"
            ]
          },
          "execution_count": 87,
          "metadata": {},
          "output_type": "execute_result"
        }
      ],
      "source": [
        "# The average trip that are between 1 min and 60 min\n",
        "((df.duration >= 1) & (df.duration <= 60)).mean()"
      ]
    },
    {
      "cell_type": "code",
      "execution_count": 88,
      "metadata": {
        "colab": {
          "base_uri": "https://localhost:8080/",
          "height": 641
        },
        "id": "XfK4phKlD1FD",
        "outputId": "9ef093f9-908c-4497-ea1d-9a1b34f2db02"
      },
      "outputs": [
        {
          "data": {
            "text/html": [
              "<div>\n",
              "<style scoped>\n",
              "    .dataframe tbody tr th:only-of-type {\n",
              "        vertical-align: middle;\n",
              "    }\n",
              "\n",
              "    .dataframe tbody tr th {\n",
              "        vertical-align: top;\n",
              "    }\n",
              "\n",
              "    .dataframe thead th {\n",
              "        text-align: right;\n",
              "    }\n",
              "</style>\n",
              "<table border=\"1\" class=\"dataframe\">\n",
              "  <thead>\n",
              "    <tr style=\"text-align: right;\">\n",
              "      <th></th>\n",
              "      <th>dispatching_base_num</th>\n",
              "      <th>pickup_datetime</th>\n",
              "      <th>dropOff_datetime</th>\n",
              "      <th>PUlocationID</th>\n",
              "      <th>DOlocationID</th>\n",
              "      <th>SR_Flag</th>\n",
              "      <th>Affiliated_base_number</th>\n",
              "      <th>duration</th>\n",
              "    </tr>\n",
              "  </thead>\n",
              "  <tbody>\n",
              "    <tr>\n",
              "      <th>0</th>\n",
              "      <td>B00009</td>\n",
              "      <td>2021-01-01 00:27:00</td>\n",
              "      <td>2021-01-01 00:44:00</td>\n",
              "      <td>NaN</td>\n",
              "      <td>NaN</td>\n",
              "      <td>None</td>\n",
              "      <td>B00009</td>\n",
              "      <td>17.000000</td>\n",
              "    </tr>\n",
              "    <tr>\n",
              "      <th>1</th>\n",
              "      <td>B00009</td>\n",
              "      <td>2021-01-01 00:50:00</td>\n",
              "      <td>2021-01-01 01:07:00</td>\n",
              "      <td>NaN</td>\n",
              "      <td>NaN</td>\n",
              "      <td>None</td>\n",
              "      <td>B00009</td>\n",
              "      <td>17.000000</td>\n",
              "    </tr>\n",
              "    <tr>\n",
              "      <th>3</th>\n",
              "      <td>B00037</td>\n",
              "      <td>2021-01-01 00:13:09</td>\n",
              "      <td>2021-01-01 00:21:26</td>\n",
              "      <td>NaN</td>\n",
              "      <td>72.0</td>\n",
              "      <td>None</td>\n",
              "      <td>B00037</td>\n",
              "      <td>8.283333</td>\n",
              "    </tr>\n",
              "    <tr>\n",
              "      <th>4</th>\n",
              "      <td>B00037</td>\n",
              "      <td>2021-01-01 00:38:31</td>\n",
              "      <td>2021-01-01 00:53:44</td>\n",
              "      <td>NaN</td>\n",
              "      <td>61.0</td>\n",
              "      <td>None</td>\n",
              "      <td>B00037</td>\n",
              "      <td>15.216667</td>\n",
              "    </tr>\n",
              "    <tr>\n",
              "      <th>5</th>\n",
              "      <td>B00037</td>\n",
              "      <td>2021-01-01 00:59:02</td>\n",
              "      <td>2021-01-01 01:08:05</td>\n",
              "      <td>NaN</td>\n",
              "      <td>71.0</td>\n",
              "      <td>None</td>\n",
              "      <td>B00037</td>\n",
              "      <td>9.050000</td>\n",
              "    </tr>\n",
              "    <tr>\n",
              "      <th>...</th>\n",
              "      <td>...</td>\n",
              "      <td>...</td>\n",
              "      <td>...</td>\n",
              "      <td>...</td>\n",
              "      <td>...</td>\n",
              "      <td>...</td>\n",
              "      <td>...</td>\n",
              "      <td>...</td>\n",
              "    </tr>\n",
              "    <tr>\n",
              "      <th>1154107</th>\n",
              "      <td>B03266</td>\n",
              "      <td>2021-01-31 23:43:03</td>\n",
              "      <td>2021-01-31 23:51:48</td>\n",
              "      <td>7.0</td>\n",
              "      <td>7.0</td>\n",
              "      <td>None</td>\n",
              "      <td>B03266</td>\n",
              "      <td>8.750000</td>\n",
              "    </tr>\n",
              "    <tr>\n",
              "      <th>1154108</th>\n",
              "      <td>B03284</td>\n",
              "      <td>2021-01-31 23:50:27</td>\n",
              "      <td>2021-02-01 00:48:03</td>\n",
              "      <td>44.0</td>\n",
              "      <td>91.0</td>\n",
              "      <td>None</td>\n",
              "      <td></td>\n",
              "      <td>57.600000</td>\n",
              "    </tr>\n",
              "    <tr>\n",
              "      <th>1154109</th>\n",
              "      <td>B03285</td>\n",
              "      <td>2021-01-31 23:13:46</td>\n",
              "      <td>2021-01-31 23:29:58</td>\n",
              "      <td>171.0</td>\n",
              "      <td>171.0</td>\n",
              "      <td>None</td>\n",
              "      <td>B03285</td>\n",
              "      <td>16.200000</td>\n",
              "    </tr>\n",
              "    <tr>\n",
              "      <th>1154110</th>\n",
              "      <td>B03285</td>\n",
              "      <td>2021-01-31 23:58:03</td>\n",
              "      <td>2021-02-01 00:17:29</td>\n",
              "      <td>15.0</td>\n",
              "      <td>15.0</td>\n",
              "      <td>None</td>\n",
              "      <td>B03285</td>\n",
              "      <td>19.433333</td>\n",
              "    </tr>\n",
              "    <tr>\n",
              "      <th>1154111</th>\n",
              "      <td>B03321</td>\n",
              "      <td>2021-01-31 23:39:00</td>\n",
              "      <td>2021-02-01 00:15:00</td>\n",
              "      <td>NaN</td>\n",
              "      <td>NaN</td>\n",
              "      <td>None</td>\n",
              "      <td>B03321</td>\n",
              "      <td>36.000000</td>\n",
              "    </tr>\n",
              "  </tbody>\n",
              "</table>\n",
              "<p>1109826 rows × 8 columns</p>\n",
              "</div>"
            ],
            "text/plain": [
              "        dispatching_base_num     pickup_datetime    dropOff_datetime  \\\n",
              "0                     B00009 2021-01-01 00:27:00 2021-01-01 00:44:00   \n",
              "1                     B00009 2021-01-01 00:50:00 2021-01-01 01:07:00   \n",
              "3                     B00037 2021-01-01 00:13:09 2021-01-01 00:21:26   \n",
              "4                     B00037 2021-01-01 00:38:31 2021-01-01 00:53:44   \n",
              "5                     B00037 2021-01-01 00:59:02 2021-01-01 01:08:05   \n",
              "...                      ...                 ...                 ...   \n",
              "1154107               B03266 2021-01-31 23:43:03 2021-01-31 23:51:48   \n",
              "1154108               B03284 2021-01-31 23:50:27 2021-02-01 00:48:03   \n",
              "1154109      B03285          2021-01-31 23:13:46 2021-01-31 23:29:58   \n",
              "1154110      B03285          2021-01-31 23:58:03 2021-02-01 00:17:29   \n",
              "1154111               B03321 2021-01-31 23:39:00 2021-02-01 00:15:00   \n",
              "\n",
              "         PUlocationID  DOlocationID SR_Flag Affiliated_base_number   duration  \n",
              "0                 NaN           NaN    None                 B00009  17.000000  \n",
              "1                 NaN           NaN    None                 B00009  17.000000  \n",
              "3                 NaN          72.0    None                 B00037   8.283333  \n",
              "4                 NaN          61.0    None                 B00037  15.216667  \n",
              "5                 NaN          71.0    None                 B00037   9.050000  \n",
              "...               ...           ...     ...                    ...        ...  \n",
              "1154107           7.0           7.0    None                 B03266   8.750000  \n",
              "1154108          44.0          91.0    None                         57.600000  \n",
              "1154109         171.0         171.0    None        B03285           16.200000  \n",
              "1154110          15.0          15.0    None        B03285           19.433333  \n",
              "1154111           NaN           NaN    None                 B03321  36.000000  \n",
              "\n",
              "[1109826 rows x 8 columns]"
            ]
          },
          "execution_count": 88,
          "metadata": {},
          "output_type": "execute_result"
        }
      ],
      "source": [
        "df = df[((df.duration >= 1) & (df.duration <= 60))]\n",
        "df"
      ]
    },
    {
      "cell_type": "markdown",
      "metadata": {
        "id": "TSUaZzDsE-yd"
      },
      "source": [
        "Data Preparation:\n",
        "\n",
        "How many records did you drop? That were between 1 min and 60 min"
      ]
    },
    {
      "cell_type": "code",
      "execution_count": 89,
      "metadata": {
        "colab": {
          "base_uri": "https://localhost:8080/"
        },
        "id": "i4hclx6iFyJ-",
        "outputId": "22ac6c39-5735-495e-e7be-206077262a49"
      },
      "outputs": [
        {
          "name": "stdout",
          "output_type": "stream",
          "text": [
            "44286 : Records dropped \n"
          ]
        }
      ],
      "source": [
        "print(1154112 - 1109826 ,': Records dropped ')"
      ]
    },
    {
      "cell_type": "code",
      "execution_count": 90,
      "metadata": {
        "colab": {
          "base_uri": "https://localhost:8080/"
        },
        "id": "7ZS23e3-JbF4",
        "outputId": "d9040225-4e9a-48c6-c096-dba2e9778058"
      },
      "outputs": [
        {
          "name": "stderr",
          "output_type": "stream",
          "text": [
            "/var/folders/2v/sxx6c19d6bjf6t_z_bbjs47c0000gn/T/ipykernel_59855/1982443802.py:2: SettingWithCopyWarning: \n",
            "A value is trying to be set on a copy of a slice from a DataFrame.\n",
            "Try using .loc[row_indexer,col_indexer] = value instead\n",
            "\n",
            "See the caveats in the documentation: https://pandas.pydata.org/pandas-docs/stable/user_guide/indexing.html#returning-a-view-versus-a-copy\n",
            "  df['PUlocationID'] = df.PUlocationID.fillna(-1)\n"
          ]
        }
      ],
      "source": [
        "# Changed all PUlocationID's NaN to -1\n",
        "df['PUlocationID'] = df.PUlocationID.fillna(-1)"
      ]
    },
    {
      "cell_type": "code",
      "execution_count": 91,
      "metadata": {
        "colab": {
          "base_uri": "https://localhost:8080/",
          "height": 347
        },
        "id": "TYnsXmeVLeqr",
        "outputId": "071df7f0-a486-4afe-b38f-66275bbf66c6"
      },
      "outputs": [
        {
          "data": {
            "text/html": [
              "<div>\n",
              "<style scoped>\n",
              "    .dataframe tbody tr th:only-of-type {\n",
              "        vertical-align: middle;\n",
              "    }\n",
              "\n",
              "    .dataframe tbody tr th {\n",
              "        vertical-align: top;\n",
              "    }\n",
              "\n",
              "    .dataframe thead th {\n",
              "        text-align: right;\n",
              "    }\n",
              "</style>\n",
              "<table border=\"1\" class=\"dataframe\">\n",
              "  <thead>\n",
              "    <tr style=\"text-align: right;\">\n",
              "      <th></th>\n",
              "      <th>dispatching_base_num</th>\n",
              "      <th>pickup_datetime</th>\n",
              "      <th>dropOff_datetime</th>\n",
              "      <th>PUlocationID</th>\n",
              "      <th>DOlocationID</th>\n",
              "      <th>SR_Flag</th>\n",
              "      <th>Affiliated_base_number</th>\n",
              "      <th>duration</th>\n",
              "    </tr>\n",
              "  </thead>\n",
              "  <tbody>\n",
              "    <tr>\n",
              "      <th>0</th>\n",
              "      <td>B00009</td>\n",
              "      <td>2021-01-01 00:27:00</td>\n",
              "      <td>2021-01-01 00:44:00</td>\n",
              "      <td>-1.0</td>\n",
              "      <td>NaN</td>\n",
              "      <td>None</td>\n",
              "      <td>B00009</td>\n",
              "      <td>17.000000</td>\n",
              "    </tr>\n",
              "    <tr>\n",
              "      <th>1</th>\n",
              "      <td>B00009</td>\n",
              "      <td>2021-01-01 00:50:00</td>\n",
              "      <td>2021-01-01 01:07:00</td>\n",
              "      <td>-1.0</td>\n",
              "      <td>NaN</td>\n",
              "      <td>None</td>\n",
              "      <td>B00009</td>\n",
              "      <td>17.000000</td>\n",
              "    </tr>\n",
              "    <tr>\n",
              "      <th>3</th>\n",
              "      <td>B00037</td>\n",
              "      <td>2021-01-01 00:13:09</td>\n",
              "      <td>2021-01-01 00:21:26</td>\n",
              "      <td>-1.0</td>\n",
              "      <td>72.0</td>\n",
              "      <td>None</td>\n",
              "      <td>B00037</td>\n",
              "      <td>8.283333</td>\n",
              "    </tr>\n",
              "    <tr>\n",
              "      <th>4</th>\n",
              "      <td>B00037</td>\n",
              "      <td>2021-01-01 00:38:31</td>\n",
              "      <td>2021-01-01 00:53:44</td>\n",
              "      <td>-1.0</td>\n",
              "      <td>61.0</td>\n",
              "      <td>None</td>\n",
              "      <td>B00037</td>\n",
              "      <td>15.216667</td>\n",
              "    </tr>\n",
              "    <tr>\n",
              "      <th>5</th>\n",
              "      <td>B00037</td>\n",
              "      <td>2021-01-01 00:59:02</td>\n",
              "      <td>2021-01-01 01:08:05</td>\n",
              "      <td>-1.0</td>\n",
              "      <td>71.0</td>\n",
              "      <td>None</td>\n",
              "      <td>B00037</td>\n",
              "      <td>9.050000</td>\n",
              "    </tr>\n",
              "  </tbody>\n",
              "</table>\n",
              "</div>"
            ],
            "text/plain": [
              "  dispatching_base_num     pickup_datetime    dropOff_datetime  PUlocationID  \\\n",
              "0               B00009 2021-01-01 00:27:00 2021-01-01 00:44:00          -1.0   \n",
              "1               B00009 2021-01-01 00:50:00 2021-01-01 01:07:00          -1.0   \n",
              "3               B00037 2021-01-01 00:13:09 2021-01-01 00:21:26          -1.0   \n",
              "4               B00037 2021-01-01 00:38:31 2021-01-01 00:53:44          -1.0   \n",
              "5               B00037 2021-01-01 00:59:02 2021-01-01 01:08:05          -1.0   \n",
              "\n",
              "   DOlocationID SR_Flag Affiliated_base_number   duration  \n",
              "0           NaN    None                 B00009  17.000000  \n",
              "1           NaN    None                 B00009  17.000000  \n",
              "3          72.0    None                 B00037   8.283333  \n",
              "4          61.0    None                 B00037  15.216667  \n",
              "5          71.0    None                 B00037   9.050000  "
            ]
          },
          "execution_count": 91,
          "metadata": {},
          "output_type": "execute_result"
        }
      ],
      "source": [
        "df.head()"
      ]
    },
    {
      "cell_type": "code",
      "execution_count": 92,
      "metadata": {},
      "outputs": [
        {
          "data": {
            "text/plain": [
              "0.8352732770722617"
            ]
          },
          "execution_count": 92,
          "metadata": {},
          "output_type": "execute_result"
        }
      ],
      "source": [
        "(df.PUlocationID ==-1).mean()"
      ]
    },
    {
      "cell_type": "markdown",
      "metadata": {
        "id": "Bd7pSOA7I45p"
      },
      "source": [
        "Q3) Missing Values:\n",
        "\n",
        "What's the fractions of missing values for the pickup location ID? I.e. fraction of \"-1\"s after you filled the NaNs\n",
        "\n",
        "83% were filled with -1"
      ]
    },
    {
      "cell_type": "markdown",
      "metadata": {},
      "source": [
        "Q4) One-hot Encoding:\n",
        "\n",
        "Let's apply one-hot encoding to the pickup and dropoff location IDs. We'll use only these two features for our model.\n",
        "\n",
        "    - Turn the dataframe into a list of dictionaries\n",
        "\n",
        "    - Fit a dictonary vectorizer\n",
        "    \n",
        "    - Get a feature matrix from it \n"
      ]
    },
    {
      "cell_type": "code",
      "execution_count": 93,
      "metadata": {},
      "outputs": [
        {
          "name": "stderr",
          "output_type": "stream",
          "text": [
            "/var/folders/2v/sxx6c19d6bjf6t_z_bbjs47c0000gn/T/ipykernel_59855/3629220058.py:1: SettingWithCopyWarning: \n",
            "A value is trying to be set on a copy of a slice from a DataFrame.\n",
            "Try using .loc[row_indexer,col_indexer] = value instead\n",
            "\n",
            "See the caveats in the documentation: https://pandas.pydata.org/pandas-docs/stable/user_guide/indexing.html#returning-a-view-versus-a-copy\n",
            "  df['DOlocationID'] = df.DOlocationID.fillna(1)\n"
          ]
        }
      ],
      "source": [
        "df['DOlocationID'] = df.DOlocationID.fillna(1)"
      ]
    },
    {
      "cell_type": "code",
      "execution_count": 94,
      "metadata": {},
      "outputs": [
        {
          "data": {
            "text/html": [
              "<div>\n",
              "<style scoped>\n",
              "    .dataframe tbody tr th:only-of-type {\n",
              "        vertical-align: middle;\n",
              "    }\n",
              "\n",
              "    .dataframe tbody tr th {\n",
              "        vertical-align: top;\n",
              "    }\n",
              "\n",
              "    .dataframe thead th {\n",
              "        text-align: right;\n",
              "    }\n",
              "</style>\n",
              "<table border=\"1\" class=\"dataframe\">\n",
              "  <thead>\n",
              "    <tr style=\"text-align: right;\">\n",
              "      <th></th>\n",
              "      <th>dispatching_base_num</th>\n",
              "      <th>pickup_datetime</th>\n",
              "      <th>dropOff_datetime</th>\n",
              "      <th>PUlocationID</th>\n",
              "      <th>DOlocationID</th>\n",
              "      <th>SR_Flag</th>\n",
              "      <th>Affiliated_base_number</th>\n",
              "      <th>duration</th>\n",
              "    </tr>\n",
              "  </thead>\n",
              "  <tbody>\n",
              "    <tr>\n",
              "      <th>0</th>\n",
              "      <td>B00009</td>\n",
              "      <td>2021-01-01 00:27:00</td>\n",
              "      <td>2021-01-01 00:44:00</td>\n",
              "      <td>-1.0</td>\n",
              "      <td>1.0</td>\n",
              "      <td>None</td>\n",
              "      <td>B00009</td>\n",
              "      <td>17.000000</td>\n",
              "    </tr>\n",
              "    <tr>\n",
              "      <th>1</th>\n",
              "      <td>B00009</td>\n",
              "      <td>2021-01-01 00:50:00</td>\n",
              "      <td>2021-01-01 01:07:00</td>\n",
              "      <td>-1.0</td>\n",
              "      <td>1.0</td>\n",
              "      <td>None</td>\n",
              "      <td>B00009</td>\n",
              "      <td>17.000000</td>\n",
              "    </tr>\n",
              "    <tr>\n",
              "      <th>3</th>\n",
              "      <td>B00037</td>\n",
              "      <td>2021-01-01 00:13:09</td>\n",
              "      <td>2021-01-01 00:21:26</td>\n",
              "      <td>-1.0</td>\n",
              "      <td>72.0</td>\n",
              "      <td>None</td>\n",
              "      <td>B00037</td>\n",
              "      <td>8.283333</td>\n",
              "    </tr>\n",
              "    <tr>\n",
              "      <th>4</th>\n",
              "      <td>B00037</td>\n",
              "      <td>2021-01-01 00:38:31</td>\n",
              "      <td>2021-01-01 00:53:44</td>\n",
              "      <td>-1.0</td>\n",
              "      <td>61.0</td>\n",
              "      <td>None</td>\n",
              "      <td>B00037</td>\n",
              "      <td>15.216667</td>\n",
              "    </tr>\n",
              "    <tr>\n",
              "      <th>5</th>\n",
              "      <td>B00037</td>\n",
              "      <td>2021-01-01 00:59:02</td>\n",
              "      <td>2021-01-01 01:08:05</td>\n",
              "      <td>-1.0</td>\n",
              "      <td>71.0</td>\n",
              "      <td>None</td>\n",
              "      <td>B00037</td>\n",
              "      <td>9.050000</td>\n",
              "    </tr>\n",
              "  </tbody>\n",
              "</table>\n",
              "</div>"
            ],
            "text/plain": [
              "  dispatching_base_num     pickup_datetime    dropOff_datetime  PUlocationID  \\\n",
              "0               B00009 2021-01-01 00:27:00 2021-01-01 00:44:00          -1.0   \n",
              "1               B00009 2021-01-01 00:50:00 2021-01-01 01:07:00          -1.0   \n",
              "3               B00037 2021-01-01 00:13:09 2021-01-01 00:21:26          -1.0   \n",
              "4               B00037 2021-01-01 00:38:31 2021-01-01 00:53:44          -1.0   \n",
              "5               B00037 2021-01-01 00:59:02 2021-01-01 01:08:05          -1.0   \n",
              "\n",
              "   DOlocationID SR_Flag Affiliated_base_number   duration  \n",
              "0           1.0    None                 B00009  17.000000  \n",
              "1           1.0    None                 B00009  17.000000  \n",
              "3          72.0    None                 B00037   8.283333  \n",
              "4          61.0    None                 B00037  15.216667  \n",
              "5          71.0    None                 B00037   9.050000  "
            ]
          },
          "execution_count": 94,
          "metadata": {},
          "output_type": "execute_result"
        }
      ],
      "source": [
        "df.head()"
      ]
    },
    {
      "cell_type": "code",
      "execution_count": 95,
      "metadata": {},
      "outputs": [
        {
          "name": "stderr",
          "output_type": "stream",
          "text": [
            "/var/folders/2v/sxx6c19d6bjf6t_z_bbjs47c0000gn/T/ipykernel_59855/1952768235.py:2: SettingWithCopyWarning: \n",
            "A value is trying to be set on a copy of a slice from a DataFrame.\n",
            "Try using .loc[row_indexer,col_indexer] = value instead\n",
            "\n",
            "See the caveats in the documentation: https://pandas.pydata.org/pandas-docs/stable/user_guide/indexing.html#returning-a-view-versus-a-copy\n",
            "  df[categorical] = df[categorical].astype('str')\n"
          ]
        }
      ],
      "source": [
        "categorical = ['PUlocationID', 'DOlocationID']\n",
        "df[categorical] = df[categorical].astype('str')\n",
        "train_dicts = df[categorical].to_dict(orient = 'records')"
      ]
    },
    {
      "cell_type": "code",
      "execution_count": 96,
      "metadata": {},
      "outputs": [
        {
          "data": {
            "text/plain": [
              "(1109826, 524)"
            ]
          },
          "execution_count": 96,
          "metadata": {},
          "output_type": "execute_result"
        }
      ],
      "source": [
        "dv = DictVectorizer()\n",
        "X_train = dv.fit_transform(train_dicts)\n",
        "X_train.shape"
      ]
    },
    {
      "cell_type": "markdown",
      "metadata": {},
      "source": [
        "Q4) One-hot Encoding:\n",
        "\n",
        "Let's apply one-hot encoding to the pickup and dropoff location IDs. We'll use only these two features for our model.\n",
        "\n",
        "What's the dimensionality of this matrix(The number of columns)\n",
        "\n",
        "Answer:\n",
        "524 col"
      ]
    },
    {
      "cell_type": "markdown",
      "metadata": {},
      "source": [
        "Q5) Training a Model\n",
        "\n",
        "Now let's use the feature matrix from the previous step to train a model\n",
        "    \n",
        "    * Train a plain Linear Regression Model with default parameters\n",
        "\n",
        "    * Calculate the RMSE of the model on the training data"
      ]
    },
    {
      "cell_type": "code",
      "execution_count": 97,
      "metadata": {},
      "outputs": [
        {
          "name": "stdout",
          "output_type": "stream",
          "text": [
            "[17.         17.          8.28333333 ... 16.2        19.43333333\n",
            " 36.        ]\n"
          ]
        }
      ],
      "source": [
        "target = 'duration'\n",
        "y_train = df[target].values\n",
        "print(y_train)"
      ]
    },
    {
      "cell_type": "code",
      "execution_count": 98,
      "metadata": {},
      "outputs": [
        {
          "data": {
            "text/html": [
              "<style>#sk-container-id-2 {color: black;background-color: white;}#sk-container-id-2 pre{padding: 0;}#sk-container-id-2 div.sk-toggleable {background-color: white;}#sk-container-id-2 label.sk-toggleable__label {cursor: pointer;display: block;width: 100%;margin-bottom: 0;padding: 0.3em;box-sizing: border-box;text-align: center;}#sk-container-id-2 label.sk-toggleable__label-arrow:before {content: \"▸\";float: left;margin-right: 0.25em;color: #696969;}#sk-container-id-2 label.sk-toggleable__label-arrow:hover:before {color: black;}#sk-container-id-2 div.sk-estimator:hover label.sk-toggleable__label-arrow:before {color: black;}#sk-container-id-2 div.sk-toggleable__content {max-height: 0;max-width: 0;overflow: hidden;text-align: left;background-color: #f0f8ff;}#sk-container-id-2 div.sk-toggleable__content pre {margin: 0.2em;color: black;border-radius: 0.25em;background-color: #f0f8ff;}#sk-container-id-2 input.sk-toggleable__control:checked~div.sk-toggleable__content {max-height: 200px;max-width: 100%;overflow: auto;}#sk-container-id-2 input.sk-toggleable__control:checked~label.sk-toggleable__label-arrow:before {content: \"▾\";}#sk-container-id-2 div.sk-estimator input.sk-toggleable__control:checked~label.sk-toggleable__label {background-color: #d4ebff;}#sk-container-id-2 div.sk-label input.sk-toggleable__control:checked~label.sk-toggleable__label {background-color: #d4ebff;}#sk-container-id-2 input.sk-hidden--visually {border: 0;clip: rect(1px 1px 1px 1px);clip: rect(1px, 1px, 1px, 1px);height: 1px;margin: -1px;overflow: hidden;padding: 0;position: absolute;width: 1px;}#sk-container-id-2 div.sk-estimator {font-family: monospace;background-color: #f0f8ff;border: 1px dotted black;border-radius: 0.25em;box-sizing: border-box;margin-bottom: 0.5em;}#sk-container-id-2 div.sk-estimator:hover {background-color: #d4ebff;}#sk-container-id-2 div.sk-parallel-item::after {content: \"\";width: 100%;border-bottom: 1px solid gray;flex-grow: 1;}#sk-container-id-2 div.sk-label:hover label.sk-toggleable__label {background-color: #d4ebff;}#sk-container-id-2 div.sk-serial::before {content: \"\";position: absolute;border-left: 1px solid gray;box-sizing: border-box;top: 0;bottom: 0;left: 50%;z-index: 0;}#sk-container-id-2 div.sk-serial {display: flex;flex-direction: column;align-items: center;background-color: white;padding-right: 0.2em;padding-left: 0.2em;position: relative;}#sk-container-id-2 div.sk-item {position: relative;z-index: 1;}#sk-container-id-2 div.sk-parallel {display: flex;align-items: stretch;justify-content: center;background-color: white;position: relative;}#sk-container-id-2 div.sk-item::before, #sk-container-id-2 div.sk-parallel-item::before {content: \"\";position: absolute;border-left: 1px solid gray;box-sizing: border-box;top: 0;bottom: 0;left: 50%;z-index: -1;}#sk-container-id-2 div.sk-parallel-item {display: flex;flex-direction: column;z-index: 1;position: relative;background-color: white;}#sk-container-id-2 div.sk-parallel-item:first-child::after {align-self: flex-end;width: 50%;}#sk-container-id-2 div.sk-parallel-item:last-child::after {align-self: flex-start;width: 50%;}#sk-container-id-2 div.sk-parallel-item:only-child::after {width: 0;}#sk-container-id-2 div.sk-dashed-wrapped {border: 1px dashed gray;margin: 0 0.4em 0.5em 0.4em;box-sizing: border-box;padding-bottom: 0.4em;background-color: white;}#sk-container-id-2 div.sk-label label {font-family: monospace;font-weight: bold;display: inline-block;line-height: 1.2em;}#sk-container-id-2 div.sk-label-container {text-align: center;}#sk-container-id-2 div.sk-container {/* jupyter's `normalize.less` sets `[hidden] { display: none; }` but bootstrap.min.css set `[hidden] { display: none !important; }` so we also need the `!important` here to be able to override the default hidden behavior on the sphinx rendered scikit-learn.org. See: https://github.com/scikit-learn/scikit-learn/issues/21755 */display: inline-block !important;position: relative;}#sk-container-id-2 div.sk-text-repr-fallback {display: none;}</style><div id=\"sk-container-id-2\" class=\"sk-top-container\"><div class=\"sk-text-repr-fallback\"><pre>LinearRegression()</pre><b>In a Jupyter environment, please rerun this cell to show the HTML representation or trust the notebook. <br />On GitHub, the HTML representation is unable to render, please try loading this page with nbviewer.org.</b></div><div class=\"sk-container\" hidden><div class=\"sk-item\"><div class=\"sk-estimator sk-toggleable\"><input class=\"sk-toggleable__control sk-hidden--visually\" id=\"sk-estimator-id-2\" type=\"checkbox\" checked><label for=\"sk-estimator-id-2\" class=\"sk-toggleable__label sk-toggleable__label-arrow\">LinearRegression</label><div class=\"sk-toggleable__content\"><pre>LinearRegression()</pre></div></div></div></div></div>"
            ],
            "text/plain": [
              "LinearRegression()"
            ]
          },
          "execution_count": 98,
          "metadata": {},
          "output_type": "execute_result"
        }
      ],
      "source": [
        "lr = LinearRegression()\n",
        "lr.fit(X_train,y_train)"
      ]
    },
    {
      "cell_type": "code",
      "execution_count": 99,
      "metadata": {},
      "outputs": [
        {
          "data": {
            "text/plain": [
              "10.531832629168965"
            ]
          },
          "execution_count": 99,
          "metadata": {},
          "output_type": "execute_result"
        }
      ],
      "source": [
        "y_pred =  lr.predict(X_train)\n",
        "mean_squared_error(y_train,y_pred, squared=False)"
      ]
    },
    {
      "cell_type": "markdown",
      "metadata": {},
      "source": [
        "Q5) Training a Model\n",
        "\n",
        "What's the RMSE on train?\n",
        "\n",
        "The RMSE is 10.53"
      ]
    },
    {
      "cell_type": "markdown",
      "metadata": {},
      "source": [
        "Q6) Evaluating the Model\n",
        "\n",
        "Now let's apply this model to the validation dataset (Feb 2021)\n"
      ]
    },
    {
      "cell_type": "code",
      "execution_count": 100,
      "metadata": {},
      "outputs": [
        {
          "data": {
            "text/html": [
              "<div>\n",
              "<style scoped>\n",
              "    .dataframe tbody tr th:only-of-type {\n",
              "        vertical-align: middle;\n",
              "    }\n",
              "\n",
              "    .dataframe tbody tr th {\n",
              "        vertical-align: top;\n",
              "    }\n",
              "\n",
              "    .dataframe thead th {\n",
              "        text-align: right;\n",
              "    }\n",
              "</style>\n",
              "<table border=\"1\" class=\"dataframe\">\n",
              "  <thead>\n",
              "    <tr style=\"text-align: right;\">\n",
              "      <th></th>\n",
              "      <th>dispatching_base_num</th>\n",
              "      <th>pickup_datetime</th>\n",
              "      <th>dropOff_datetime</th>\n",
              "      <th>PUlocationID</th>\n",
              "      <th>DOlocationID</th>\n",
              "      <th>SR_Flag</th>\n",
              "      <th>Affiliated_base_number</th>\n",
              "    </tr>\n",
              "  </thead>\n",
              "  <tbody>\n",
              "    <tr>\n",
              "      <th>0</th>\n",
              "      <td>B00013</td>\n",
              "      <td>2021-02-01 00:01:00</td>\n",
              "      <td>2021-02-01 01:33:00</td>\n",
              "      <td>NaN</td>\n",
              "      <td>NaN</td>\n",
              "      <td>None</td>\n",
              "      <td>B00014</td>\n",
              "    </tr>\n",
              "    <tr>\n",
              "      <th>1</th>\n",
              "      <td>B00021</td>\n",
              "      <td>2021-02-01 00:55:40</td>\n",
              "      <td>2021-02-01 01:06:20</td>\n",
              "      <td>173.0</td>\n",
              "      <td>82.0</td>\n",
              "      <td>None</td>\n",
              "      <td>B00021</td>\n",
              "    </tr>\n",
              "    <tr>\n",
              "      <th>2</th>\n",
              "      <td>B00021</td>\n",
              "      <td>2021-02-01 00:14:03</td>\n",
              "      <td>2021-02-01 00:28:37</td>\n",
              "      <td>173.0</td>\n",
              "      <td>56.0</td>\n",
              "      <td>None</td>\n",
              "      <td>B00021</td>\n",
              "    </tr>\n",
              "    <tr>\n",
              "      <th>3</th>\n",
              "      <td>B00021</td>\n",
              "      <td>2021-02-01 00:27:48</td>\n",
              "      <td>2021-02-01 00:35:45</td>\n",
              "      <td>82.0</td>\n",
              "      <td>129.0</td>\n",
              "      <td>None</td>\n",
              "      <td>B00021</td>\n",
              "    </tr>\n",
              "    <tr>\n",
              "      <th>4</th>\n",
              "      <td>B00037</td>\n",
              "      <td>2021-02-01 00:12:50</td>\n",
              "      <td>2021-02-01 00:26:38</td>\n",
              "      <td>NaN</td>\n",
              "      <td>225.0</td>\n",
              "      <td>None</td>\n",
              "      <td>B00037</td>\n",
              "    </tr>\n",
              "    <tr>\n",
              "      <th>...</th>\n",
              "      <td>...</td>\n",
              "      <td>...</td>\n",
              "      <td>...</td>\n",
              "      <td>...</td>\n",
              "      <td>...</td>\n",
              "      <td>...</td>\n",
              "      <td>...</td>\n",
              "    </tr>\n",
              "    <tr>\n",
              "      <th>1037687</th>\n",
              "      <td>B03282</td>\n",
              "      <td>2021-02-28 23:01:16</td>\n",
              "      <td>2021-02-28 23:14:48</td>\n",
              "      <td>NaN</td>\n",
              "      <td>31.0</td>\n",
              "      <td>None</td>\n",
              "      <td>B01717</td>\n",
              "    </tr>\n",
              "    <tr>\n",
              "      <th>1037688</th>\n",
              "      <td>B03282</td>\n",
              "      <td>2021-02-28 23:36:10</td>\n",
              "      <td>2021-02-28 23:47:38</td>\n",
              "      <td>NaN</td>\n",
              "      <td>169.0</td>\n",
              "      <td>None</td>\n",
              "      <td>B01717</td>\n",
              "    </tr>\n",
              "    <tr>\n",
              "      <th>1037689</th>\n",
              "      <td>B03285</td>\n",
              "      <td>2021-02-28 23:18:36</td>\n",
              "      <td>2021-02-28 23:43:59</td>\n",
              "      <td>28.0</td>\n",
              "      <td>171.0</td>\n",
              "      <td>None</td>\n",
              "      <td>B03285</td>\n",
              "    </tr>\n",
              "    <tr>\n",
              "      <th>1037690</th>\n",
              "      <td>B03285</td>\n",
              "      <td>2021-02-28 23:26:34</td>\n",
              "      <td>2021-02-28 23:44:37</td>\n",
              "      <td>16.0</td>\n",
              "      <td>252.0</td>\n",
              "      <td>None</td>\n",
              "      <td>B03285</td>\n",
              "    </tr>\n",
              "    <tr>\n",
              "      <th>1037691</th>\n",
              "      <td>B03285</td>\n",
              "      <td>2021-02-28 23:24:00</td>\n",
              "      <td>2021-02-28 23:40:00</td>\n",
              "      <td>171.0</td>\n",
              "      <td>135.0</td>\n",
              "      <td>None</td>\n",
              "      <td>B03285</td>\n",
              "    </tr>\n",
              "  </tbody>\n",
              "</table>\n",
              "<p>1037692 rows × 7 columns</p>\n",
              "</div>"
            ],
            "text/plain": [
              "        dispatching_base_num     pickup_datetime    dropOff_datetime  \\\n",
              "0                     B00013 2021-02-01 00:01:00 2021-02-01 01:33:00   \n",
              "1            B00021          2021-02-01 00:55:40 2021-02-01 01:06:20   \n",
              "2            B00021          2021-02-01 00:14:03 2021-02-01 00:28:37   \n",
              "3            B00021          2021-02-01 00:27:48 2021-02-01 00:35:45   \n",
              "4                     B00037 2021-02-01 00:12:50 2021-02-01 00:26:38   \n",
              "...                      ...                 ...                 ...   \n",
              "1037687               B03282 2021-02-28 23:01:16 2021-02-28 23:14:48   \n",
              "1037688               B03282 2021-02-28 23:36:10 2021-02-28 23:47:38   \n",
              "1037689      B03285          2021-02-28 23:18:36 2021-02-28 23:43:59   \n",
              "1037690      B03285          2021-02-28 23:26:34 2021-02-28 23:44:37   \n",
              "1037691      B03285          2021-02-28 23:24:00 2021-02-28 23:40:00   \n",
              "\n",
              "         PUlocationID  DOlocationID SR_Flag Affiliated_base_number  \n",
              "0                 NaN           NaN    None                 B00014  \n",
              "1               173.0          82.0    None        B00021           \n",
              "2               173.0          56.0    None        B00021           \n",
              "3                82.0         129.0    None        B00021           \n",
              "4                 NaN         225.0    None                 B00037  \n",
              "...               ...           ...     ...                    ...  \n",
              "1037687           NaN          31.0    None                 B01717  \n",
              "1037688           NaN         169.0    None                 B01717  \n",
              "1037689          28.0         171.0    None        B03285           \n",
              "1037690          16.0         252.0    None        B03285           \n",
              "1037691         171.0         135.0    None        B03285           \n",
              "\n",
              "[1037692 rows x 7 columns]"
            ]
          },
          "execution_count": 100,
          "metadata": {},
          "output_type": "execute_result"
        }
      ],
      "source": [
        "dst2 =  pq.read_table('fhv_tripdata_2021-02.parquet')\n",
        "df2 = dst2.to_pandas()\n",
        "df2"
      ]
    },
    {
      "cell_type": "code",
      "execution_count": 101,
      "metadata": {},
      "outputs": [
        {
          "name": "stderr",
          "output_type": "stream",
          "text": [
            "/var/folders/2v/sxx6c19d6bjf6t_z_bbjs47c0000gn/T/ipykernel_59855/2926816703.py:12: SettingWithCopyWarning: \n",
            "A value is trying to be set on a copy of a slice from a DataFrame.\n",
            "Try using .loc[row_indexer,col_indexer] = value instead\n",
            "\n",
            "See the caveats in the documentation: https://pandas.pydata.org/pandas-docs/stable/user_guide/indexing.html#returning-a-view-versus-a-copy\n",
            "  dataframe['PUlocationID'] = dataframe.PUlocationID.fillna(-1)\n",
            "/var/folders/2v/sxx6c19d6bjf6t_z_bbjs47c0000gn/T/ipykernel_59855/2926816703.py:13: SettingWithCopyWarning: \n",
            "A value is trying to be set on a copy of a slice from a DataFrame.\n",
            "Try using .loc[row_indexer,col_indexer] = value instead\n",
            "\n",
            "See the caveats in the documentation: https://pandas.pydata.org/pandas-docs/stable/user_guide/indexing.html#returning-a-view-versus-a-copy\n",
            "  dataframe['DOlocationID'] = dataframe.DOlocationID.fillna(1)\n"
          ]
        },
        {
          "data": {
            "text/html": [
              "<div>\n",
              "<style scoped>\n",
              "    .dataframe tbody tr th:only-of-type {\n",
              "        vertical-align: middle;\n",
              "    }\n",
              "\n",
              "    .dataframe tbody tr th {\n",
              "        vertical-align: top;\n",
              "    }\n",
              "\n",
              "    .dataframe thead th {\n",
              "        text-align: right;\n",
              "    }\n",
              "</style>\n",
              "<table border=\"1\" class=\"dataframe\">\n",
              "  <thead>\n",
              "    <tr style=\"text-align: right;\">\n",
              "      <th></th>\n",
              "      <th>dispatching_base_num</th>\n",
              "      <th>pickup_datetime</th>\n",
              "      <th>dropOff_datetime</th>\n",
              "      <th>PUlocationID</th>\n",
              "      <th>DOlocationID</th>\n",
              "      <th>SR_Flag</th>\n",
              "      <th>Affiliated_base_number</th>\n",
              "      <th>duration</th>\n",
              "    </tr>\n",
              "  </thead>\n",
              "  <tbody>\n",
              "    <tr>\n",
              "      <th>1</th>\n",
              "      <td>B00021</td>\n",
              "      <td>2021-02-01 00:55:40</td>\n",
              "      <td>2021-02-01 01:06:20</td>\n",
              "      <td>173.0</td>\n",
              "      <td>82.0</td>\n",
              "      <td>None</td>\n",
              "      <td>B00021</td>\n",
              "      <td>10.666667</td>\n",
              "    </tr>\n",
              "    <tr>\n",
              "      <th>2</th>\n",
              "      <td>B00021</td>\n",
              "      <td>2021-02-01 00:14:03</td>\n",
              "      <td>2021-02-01 00:28:37</td>\n",
              "      <td>173.0</td>\n",
              "      <td>56.0</td>\n",
              "      <td>None</td>\n",
              "      <td>B00021</td>\n",
              "      <td>14.566667</td>\n",
              "    </tr>\n",
              "    <tr>\n",
              "      <th>3</th>\n",
              "      <td>B00021</td>\n",
              "      <td>2021-02-01 00:27:48</td>\n",
              "      <td>2021-02-01 00:35:45</td>\n",
              "      <td>82.0</td>\n",
              "      <td>129.0</td>\n",
              "      <td>None</td>\n",
              "      <td>B00021</td>\n",
              "      <td>7.950000</td>\n",
              "    </tr>\n",
              "    <tr>\n",
              "      <th>4</th>\n",
              "      <td>B00037</td>\n",
              "      <td>2021-02-01 00:12:50</td>\n",
              "      <td>2021-02-01 00:26:38</td>\n",
              "      <td>-1.0</td>\n",
              "      <td>225.0</td>\n",
              "      <td>None</td>\n",
              "      <td>B00037</td>\n",
              "      <td>13.800000</td>\n",
              "    </tr>\n",
              "    <tr>\n",
              "      <th>5</th>\n",
              "      <td>B00037</td>\n",
              "      <td>2021-02-01 00:00:37</td>\n",
              "      <td>2021-02-01 00:09:35</td>\n",
              "      <td>-1.0</td>\n",
              "      <td>61.0</td>\n",
              "      <td>None</td>\n",
              "      <td>B00037</td>\n",
              "      <td>8.966667</td>\n",
              "    </tr>\n",
              "    <tr>\n",
              "      <th>...</th>\n",
              "      <td>...</td>\n",
              "      <td>...</td>\n",
              "      <td>...</td>\n",
              "      <td>...</td>\n",
              "      <td>...</td>\n",
              "      <td>...</td>\n",
              "      <td>...</td>\n",
              "      <td>...</td>\n",
              "    </tr>\n",
              "    <tr>\n",
              "      <th>1037687</th>\n",
              "      <td>B03282</td>\n",
              "      <td>2021-02-28 23:01:16</td>\n",
              "      <td>2021-02-28 23:14:48</td>\n",
              "      <td>-1.0</td>\n",
              "      <td>31.0</td>\n",
              "      <td>None</td>\n",
              "      <td>B01717</td>\n",
              "      <td>13.533333</td>\n",
              "    </tr>\n",
              "    <tr>\n",
              "      <th>1037688</th>\n",
              "      <td>B03282</td>\n",
              "      <td>2021-02-28 23:36:10</td>\n",
              "      <td>2021-02-28 23:47:38</td>\n",
              "      <td>-1.0</td>\n",
              "      <td>169.0</td>\n",
              "      <td>None</td>\n",
              "      <td>B01717</td>\n",
              "      <td>11.466667</td>\n",
              "    </tr>\n",
              "    <tr>\n",
              "      <th>1037689</th>\n",
              "      <td>B03285</td>\n",
              "      <td>2021-02-28 23:18:36</td>\n",
              "      <td>2021-02-28 23:43:59</td>\n",
              "      <td>28.0</td>\n",
              "      <td>171.0</td>\n",
              "      <td>None</td>\n",
              "      <td>B03285</td>\n",
              "      <td>25.383333</td>\n",
              "    </tr>\n",
              "    <tr>\n",
              "      <th>1037690</th>\n",
              "      <td>B03285</td>\n",
              "      <td>2021-02-28 23:26:34</td>\n",
              "      <td>2021-02-28 23:44:37</td>\n",
              "      <td>16.0</td>\n",
              "      <td>252.0</td>\n",
              "      <td>None</td>\n",
              "      <td>B03285</td>\n",
              "      <td>18.050000</td>\n",
              "    </tr>\n",
              "    <tr>\n",
              "      <th>1037691</th>\n",
              "      <td>B03285</td>\n",
              "      <td>2021-02-28 23:24:00</td>\n",
              "      <td>2021-02-28 23:40:00</td>\n",
              "      <td>171.0</td>\n",
              "      <td>135.0</td>\n",
              "      <td>None</td>\n",
              "      <td>B03285</td>\n",
              "      <td>16.000000</td>\n",
              "    </tr>\n",
              "  </tbody>\n",
              "</table>\n",
              "<p>990113 rows × 8 columns</p>\n",
              "</div>"
            ],
            "text/plain": [
              "        dispatching_base_num     pickup_datetime    dropOff_datetime  \\\n",
              "1            B00021          2021-02-01 00:55:40 2021-02-01 01:06:20   \n",
              "2            B00021          2021-02-01 00:14:03 2021-02-01 00:28:37   \n",
              "3            B00021          2021-02-01 00:27:48 2021-02-01 00:35:45   \n",
              "4                     B00037 2021-02-01 00:12:50 2021-02-01 00:26:38   \n",
              "5                     B00037 2021-02-01 00:00:37 2021-02-01 00:09:35   \n",
              "...                      ...                 ...                 ...   \n",
              "1037687               B03282 2021-02-28 23:01:16 2021-02-28 23:14:48   \n",
              "1037688               B03282 2021-02-28 23:36:10 2021-02-28 23:47:38   \n",
              "1037689      B03285          2021-02-28 23:18:36 2021-02-28 23:43:59   \n",
              "1037690      B03285          2021-02-28 23:26:34 2021-02-28 23:44:37   \n",
              "1037691      B03285          2021-02-28 23:24:00 2021-02-28 23:40:00   \n",
              "\n",
              "         PUlocationID  DOlocationID SR_Flag Affiliated_base_number   duration  \n",
              "1               173.0          82.0    None        B00021           10.666667  \n",
              "2               173.0          56.0    None        B00021           14.566667  \n",
              "3                82.0         129.0    None        B00021            7.950000  \n",
              "4                -1.0         225.0    None                 B00037  13.800000  \n",
              "5                -1.0          61.0    None                 B00037   8.966667  \n",
              "...               ...           ...     ...                    ...        ...  \n",
              "1037687          -1.0          31.0    None                 B01717  13.533333  \n",
              "1037688          -1.0         169.0    None                 B01717  11.466667  \n",
              "1037689          28.0         171.0    None        B03285           25.383333  \n",
              "1037690          16.0         252.0    None        B03285           18.050000  \n",
              "1037691         171.0         135.0    None        B03285           16.000000  \n",
              "\n",
              "[990113 rows x 8 columns]"
            ]
          },
          "execution_count": 101,
          "metadata": {},
          "output_type": "execute_result"
        }
      ],
      "source": [
        "def clean_Up(dataframe):\n",
        "    # Calcutaing the Duration \n",
        "    drop_off_time = pd.to_datetime(dataframe.dropOff_datetime)\n",
        "    pick_up_time = pd.to_datetime(dataframe.pickup_datetime)\n",
        "    duration = drop_off_time - pick_up_time\n",
        "\n",
        "    # Filtering the\n",
        "    dataframe['duration'] = duration\n",
        "    dataframe.duration = dataframe.duration.apply(lambda to_minus: to_minus.total_seconds()/60)\n",
        "    dataframe = dataframe[((dataframe.duration >= 1) & (dataframe.duration <= 60))]\n",
        "\n",
        "    dataframe['PUlocationID'] = dataframe.PUlocationID.fillna(-1)\n",
        "    dataframe['DOlocationID'] = dataframe.DOlocationID.fillna(1)\n",
        "\n",
        "    return dataframe\n",
        "    \n",
        "df2 = clean_Up(df2)\n",
        "df2"
      ]
    },
    {
      "cell_type": "code",
      "execution_count": 102,
      "metadata": {},
      "outputs": [
        {
          "name": "stderr",
          "output_type": "stream",
          "text": [
            "/var/folders/2v/sxx6c19d6bjf6t_z_bbjs47c0000gn/T/ipykernel_59855/2947310422.py:3: SettingWithCopyWarning: \n",
            "A value is trying to be set on a copy of a slice from a DataFrame.\n",
            "Try using .loc[row_indexer,col_indexer] = value instead\n",
            "\n",
            "See the caveats in the documentation: https://pandas.pydata.org/pandas-docs/stable/user_guide/indexing.html#returning-a-view-versus-a-copy\n",
            "  dataframe[categorical] = dataframe[categorical].astype('str')\n"
          ]
        }
      ],
      "source": [
        "def one_hot_Encoding(dataframe):\n",
        "    categorical = ['PUlocationID', 'DOlocationID']\n",
        "    dataframe[categorical] = dataframe[categorical].astype('str')\n",
        "    train_dicts = dataframe[categorical].to_dict(orient = 'records')\n",
        "    return train_dicts\n",
        "    \n",
        "train_dict = one_hot_Encoding(df2)"
      ]
    },
    {
      "cell_type": "code",
      "execution_count": 103,
      "metadata": {},
      "outputs": [
        {
          "data": {
            "text/plain": [
              "(990113, 525)"
            ]
          },
          "execution_count": 103,
          "metadata": {},
          "output_type": "execute_result"
        }
      ],
      "source": [
        "dv = DictVectorizer()\n",
        "X_tr = dv.fit_transform(train_dict)\n",
        "X_tr.shape\n"
      ]
    },
    {
      "cell_type": "code",
      "execution_count": 105,
      "metadata": {},
      "outputs": [
        {
          "data": {
            "text/plain": [
              "(990113,)"
            ]
          },
          "execution_count": 105,
          "metadata": {},
          "output_type": "execute_result"
        }
      ],
      "source": [
        "y_tr = df2.duration.values\n",
        "y_tr.shape"
      ]
    },
    {
      "cell_type": "code",
      "execution_count": 106,
      "metadata": {},
      "outputs": [
        {
          "data": {
            "text/html": [
              "<style>#sk-container-id-3 {color: black;background-color: white;}#sk-container-id-3 pre{padding: 0;}#sk-container-id-3 div.sk-toggleable {background-color: white;}#sk-container-id-3 label.sk-toggleable__label {cursor: pointer;display: block;width: 100%;margin-bottom: 0;padding: 0.3em;box-sizing: border-box;text-align: center;}#sk-container-id-3 label.sk-toggleable__label-arrow:before {content: \"▸\";float: left;margin-right: 0.25em;color: #696969;}#sk-container-id-3 label.sk-toggleable__label-arrow:hover:before {color: black;}#sk-container-id-3 div.sk-estimator:hover label.sk-toggleable__label-arrow:before {color: black;}#sk-container-id-3 div.sk-toggleable__content {max-height: 0;max-width: 0;overflow: hidden;text-align: left;background-color: #f0f8ff;}#sk-container-id-3 div.sk-toggleable__content pre {margin: 0.2em;color: black;border-radius: 0.25em;background-color: #f0f8ff;}#sk-container-id-3 input.sk-toggleable__control:checked~div.sk-toggleable__content {max-height: 200px;max-width: 100%;overflow: auto;}#sk-container-id-3 input.sk-toggleable__control:checked~label.sk-toggleable__label-arrow:before {content: \"▾\";}#sk-container-id-3 div.sk-estimator input.sk-toggleable__control:checked~label.sk-toggleable__label {background-color: #d4ebff;}#sk-container-id-3 div.sk-label input.sk-toggleable__control:checked~label.sk-toggleable__label {background-color: #d4ebff;}#sk-container-id-3 input.sk-hidden--visually {border: 0;clip: rect(1px 1px 1px 1px);clip: rect(1px, 1px, 1px, 1px);height: 1px;margin: -1px;overflow: hidden;padding: 0;position: absolute;width: 1px;}#sk-container-id-3 div.sk-estimator {font-family: monospace;background-color: #f0f8ff;border: 1px dotted black;border-radius: 0.25em;box-sizing: border-box;margin-bottom: 0.5em;}#sk-container-id-3 div.sk-estimator:hover {background-color: #d4ebff;}#sk-container-id-3 div.sk-parallel-item::after {content: \"\";width: 100%;border-bottom: 1px solid gray;flex-grow: 1;}#sk-container-id-3 div.sk-label:hover label.sk-toggleable__label {background-color: #d4ebff;}#sk-container-id-3 div.sk-serial::before {content: \"\";position: absolute;border-left: 1px solid gray;box-sizing: border-box;top: 0;bottom: 0;left: 50%;z-index: 0;}#sk-container-id-3 div.sk-serial {display: flex;flex-direction: column;align-items: center;background-color: white;padding-right: 0.2em;padding-left: 0.2em;position: relative;}#sk-container-id-3 div.sk-item {position: relative;z-index: 1;}#sk-container-id-3 div.sk-parallel {display: flex;align-items: stretch;justify-content: center;background-color: white;position: relative;}#sk-container-id-3 div.sk-item::before, #sk-container-id-3 div.sk-parallel-item::before {content: \"\";position: absolute;border-left: 1px solid gray;box-sizing: border-box;top: 0;bottom: 0;left: 50%;z-index: -1;}#sk-container-id-3 div.sk-parallel-item {display: flex;flex-direction: column;z-index: 1;position: relative;background-color: white;}#sk-container-id-3 div.sk-parallel-item:first-child::after {align-self: flex-end;width: 50%;}#sk-container-id-3 div.sk-parallel-item:last-child::after {align-self: flex-start;width: 50%;}#sk-container-id-3 div.sk-parallel-item:only-child::after {width: 0;}#sk-container-id-3 div.sk-dashed-wrapped {border: 1px dashed gray;margin: 0 0.4em 0.5em 0.4em;box-sizing: border-box;padding-bottom: 0.4em;background-color: white;}#sk-container-id-3 div.sk-label label {font-family: monospace;font-weight: bold;display: inline-block;line-height: 1.2em;}#sk-container-id-3 div.sk-label-container {text-align: center;}#sk-container-id-3 div.sk-container {/* jupyter's `normalize.less` sets `[hidden] { display: none; }` but bootstrap.min.css set `[hidden] { display: none !important; }` so we also need the `!important` here to be able to override the default hidden behavior on the sphinx rendered scikit-learn.org. See: https://github.com/scikit-learn/scikit-learn/issues/21755 */display: inline-block !important;position: relative;}#sk-container-id-3 div.sk-text-repr-fallback {display: none;}</style><div id=\"sk-container-id-3\" class=\"sk-top-container\"><div class=\"sk-text-repr-fallback\"><pre>LinearRegression()</pre><b>In a Jupyter environment, please rerun this cell to show the HTML representation or trust the notebook. <br />On GitHub, the HTML representation is unable to render, please try loading this page with nbviewer.org.</b></div><div class=\"sk-container\" hidden><div class=\"sk-item\"><div class=\"sk-estimator sk-toggleable\"><input class=\"sk-toggleable__control sk-hidden--visually\" id=\"sk-estimator-id-3\" type=\"checkbox\" checked><label for=\"sk-estimator-id-3\" class=\"sk-toggleable__label sk-toggleable__label-arrow\">LinearRegression</label><div class=\"sk-toggleable__content\"><pre>LinearRegression()</pre></div></div></div></div></div>"
            ],
            "text/plain": [
              "LinearRegression()"
            ]
          },
          "execution_count": 106,
          "metadata": {},
          "output_type": "execute_result"
        }
      ],
      "source": [
        "lreg = LinearRegression()\n",
        "lreg.fit(X_tr,y_tr)\n"
      ]
    },
    {
      "cell_type": "markdown",
      "metadata": {},
      "source": [
        "Q6) Evaluating the model\n",
        "\n",
        "What's the RMSE on validation?"
      ]
    },
    {
      "cell_type": "code",
      "execution_count": 110,
      "metadata": {},
      "outputs": [
        {
          "name": "stdout",
          "output_type": "stream",
          "text": [
            "(990113,)\n",
            "RSME:  10.962224458974509\n"
          ]
        }
      ],
      "source": [
        "y_pred =  lreg.predict(X_tr)\n",
        "print(y_pred.shape)\n",
        "RSME =  mean_squared_error(y_tr,y_pred, squared=False)\n",
        "print('RSME: ',RSME)"
      ]
    }
  ],
  "metadata": {
    "colab": {
      "name": "MLops_Week_One.ipynb",
      "provenance": []
    },
    "interpreter": {
      "hash": "85ee17a047c78d66b7f20e7c83a9871a2fd8adfc365441252a88aa3dbac832cf"
    },
    "kernelspec": {
      "display_name": "Python 3.9.9 ('base')",
      "language": "python",
      "name": "python3"
    },
    "language_info": {
      "codemirror_mode": {
        "name": "ipython",
        "version": 3
      },
      "file_extension": ".py",
      "mimetype": "text/x-python",
      "name": "python",
      "nbconvert_exporter": "python",
      "pygments_lexer": "ipython3",
      "version": "3.9.9"
    }
  },
  "nbformat": 4,
  "nbformat_minor": 0
}
